{
 "cells": [
  {
   "cell_type": "markdown",
   "metadata": {},
   "source": [
    "### This code can analyze the probability of a person having a heart attack from certain data using machine learning."
   ]
  },
  {
   "cell_type": "code",
   "execution_count": 78,
   "metadata": {},
   "outputs": [],
   "source": [
    "import pandas as pd\n",
    "from sklearn.preprocessing import LabelEncoder\n",
    "from sklearn.preprocessing import MinMaxScaler\n",
    "from sklearn.model_selection import train_test_split\n",
    "from sklearn import svm\n",
    "from sklearn.tree import DecisionTreeClassifier\n",
    "from sklearn.linear_model import LogisticRegression\n",
    "from sklearn.naive_bayes import GaussianNB\n",
    "from sklearn.neighbors import KNeighborsClassifier\n",
    "from sklearn.metrics import confusion_matrix\n",
    "from sklearn.metrics import accuracy_score, precision_score"
   ]
  },
  {
   "cell_type": "code",
   "execution_count": 3,
   "metadata": {},
   "outputs": [
    {
     "data": {
      "text/html": [
       "<div>\n",
       "<style scoped>\n",
       "    .dataframe tbody tr th:only-of-type {\n",
       "        vertical-align: middle;\n",
       "    }\n",
       "\n",
       "    .dataframe tbody tr th {\n",
       "        vertical-align: top;\n",
       "    }\n",
       "\n",
       "    .dataframe thead th {\n",
       "        text-align: right;\n",
       "    }\n",
       "</style>\n",
       "<table border=\"1\" class=\"dataframe\">\n",
       "  <thead>\n",
       "    <tr style=\"text-align: right;\">\n",
       "      <th></th>\n",
       "      <th>V1</th>\n",
       "      <th>V2</th>\n",
       "      <th>V3</th>\n",
       "      <th>V4</th>\n",
       "      <th>V5</th>\n",
       "      <th>V6</th>\n",
       "      <th>V7</th>\n",
       "      <th>V8</th>\n",
       "      <th>V9</th>\n",
       "      <th>Class</th>\n",
       "    </tr>\n",
       "  </thead>\n",
       "  <tbody>\n",
       "    <tr>\n",
       "      <th>0</th>\n",
       "      <td>160</td>\n",
       "      <td>12.00</td>\n",
       "      <td>5.73</td>\n",
       "      <td>23.11</td>\n",
       "      <td>1</td>\n",
       "      <td>49</td>\n",
       "      <td>25.30</td>\n",
       "      <td>97.20</td>\n",
       "      <td>52</td>\n",
       "      <td>2</td>\n",
       "    </tr>\n",
       "    <tr>\n",
       "      <th>1</th>\n",
       "      <td>144</td>\n",
       "      <td>0.01</td>\n",
       "      <td>4.41</td>\n",
       "      <td>28.61</td>\n",
       "      <td>2</td>\n",
       "      <td>55</td>\n",
       "      <td>28.87</td>\n",
       "      <td>2.06</td>\n",
       "      <td>63</td>\n",
       "      <td>2</td>\n",
       "    </tr>\n",
       "    <tr>\n",
       "      <th>2</th>\n",
       "      <td>118</td>\n",
       "      <td>0.08</td>\n",
       "      <td>3.48</td>\n",
       "      <td>32.28</td>\n",
       "      <td>1</td>\n",
       "      <td>52</td>\n",
       "      <td>29.14</td>\n",
       "      <td>3.81</td>\n",
       "      <td>46</td>\n",
       "      <td>1</td>\n",
       "    </tr>\n",
       "    <tr>\n",
       "      <th>3</th>\n",
       "      <td>170</td>\n",
       "      <td>7.50</td>\n",
       "      <td>6.41</td>\n",
       "      <td>38.03</td>\n",
       "      <td>1</td>\n",
       "      <td>51</td>\n",
       "      <td>31.99</td>\n",
       "      <td>24.26</td>\n",
       "      <td>58</td>\n",
       "      <td>2</td>\n",
       "    </tr>\n",
       "    <tr>\n",
       "      <th>4</th>\n",
       "      <td>134</td>\n",
       "      <td>13.60</td>\n",
       "      <td>3.50</td>\n",
       "      <td>27.78</td>\n",
       "      <td>1</td>\n",
       "      <td>60</td>\n",
       "      <td>25.99</td>\n",
       "      <td>57.34</td>\n",
       "      <td>49</td>\n",
       "      <td>2</td>\n",
       "    </tr>\n",
       "  </tbody>\n",
       "</table>\n",
       "</div>"
      ],
      "text/plain": [
       "    V1     V2    V3     V4  V5  V6     V7     V8  V9  Class\n",
       "0  160  12.00  5.73  23.11   1  49  25.30  97.20  52      2\n",
       "1  144   0.01  4.41  28.61   2  55  28.87   2.06  63      2\n",
       "2  118   0.08  3.48  32.28   1  52  29.14   3.81  46      1\n",
       "3  170   7.50  6.41  38.03   1  51  31.99  24.26  58      2\n",
       "4  134  13.60  3.50  27.78   1  60  25.99  57.34  49      2"
      ]
     },
     "execution_count": 3,
     "metadata": {},
     "output_type": "execute_result"
    }
   ],
   "source": [
    "df = pd.read_csv('Attacks.csv')\n",
    "df.head()"
   ]
  },
  {
   "cell_type": "code",
   "execution_count": 5,
   "metadata": {},
   "outputs": [
    {
     "data": {
      "text/html": [
       "<div>\n",
       "<style scoped>\n",
       "    .dataframe tbody tr th:only-of-type {\n",
       "        vertical-align: middle;\n",
       "    }\n",
       "\n",
       "    .dataframe tbody tr th {\n",
       "        vertical-align: top;\n",
       "    }\n",
       "\n",
       "    .dataframe thead th {\n",
       "        text-align: right;\n",
       "    }\n",
       "</style>\n",
       "<table border=\"1\" class=\"dataframe\">\n",
       "  <thead>\n",
       "    <tr style=\"text-align: right;\">\n",
       "      <th></th>\n",
       "      <th>sbp</th>\n",
       "      <th>Tabaco</th>\n",
       "      <th>ldl</th>\n",
       "      <th>Adiposity</th>\n",
       "      <th>Family</th>\n",
       "      <th>Type</th>\n",
       "      <th>Obesity</th>\n",
       "      <th>Alcohol</th>\n",
       "      <th>Age</th>\n",
       "      <th>chd</th>\n",
       "    </tr>\n",
       "  </thead>\n",
       "  <tbody>\n",
       "    <tr>\n",
       "      <th>0</th>\n",
       "      <td>160</td>\n",
       "      <td>12.00</td>\n",
       "      <td>5.73</td>\n",
       "      <td>23.11</td>\n",
       "      <td>1</td>\n",
       "      <td>49</td>\n",
       "      <td>25.30</td>\n",
       "      <td>97.20</td>\n",
       "      <td>52</td>\n",
       "      <td>2</td>\n",
       "    </tr>\n",
       "    <tr>\n",
       "      <th>1</th>\n",
       "      <td>144</td>\n",
       "      <td>0.01</td>\n",
       "      <td>4.41</td>\n",
       "      <td>28.61</td>\n",
       "      <td>2</td>\n",
       "      <td>55</td>\n",
       "      <td>28.87</td>\n",
       "      <td>2.06</td>\n",
       "      <td>63</td>\n",
       "      <td>2</td>\n",
       "    </tr>\n",
       "    <tr>\n",
       "      <th>2</th>\n",
       "      <td>118</td>\n",
       "      <td>0.08</td>\n",
       "      <td>3.48</td>\n",
       "      <td>32.28</td>\n",
       "      <td>1</td>\n",
       "      <td>52</td>\n",
       "      <td>29.14</td>\n",
       "      <td>3.81</td>\n",
       "      <td>46</td>\n",
       "      <td>1</td>\n",
       "    </tr>\n",
       "    <tr>\n",
       "      <th>3</th>\n",
       "      <td>170</td>\n",
       "      <td>7.50</td>\n",
       "      <td>6.41</td>\n",
       "      <td>38.03</td>\n",
       "      <td>1</td>\n",
       "      <td>51</td>\n",
       "      <td>31.99</td>\n",
       "      <td>24.26</td>\n",
       "      <td>58</td>\n",
       "      <td>2</td>\n",
       "    </tr>\n",
       "    <tr>\n",
       "      <th>4</th>\n",
       "      <td>134</td>\n",
       "      <td>13.60</td>\n",
       "      <td>3.50</td>\n",
       "      <td>27.78</td>\n",
       "      <td>1</td>\n",
       "      <td>60</td>\n",
       "      <td>25.99</td>\n",
       "      <td>57.34</td>\n",
       "      <td>49</td>\n",
       "      <td>2</td>\n",
       "    </tr>\n",
       "  </tbody>\n",
       "</table>\n",
       "</div>"
      ],
      "text/plain": [
       "   sbp  Tabaco   ldl  Adiposity  Family  Type  Obesity  Alcohol  Age  chd\n",
       "0  160   12.00  5.73      23.11       1    49    25.30    97.20   52    2\n",
       "1  144    0.01  4.41      28.61       2    55    28.87     2.06   63    2\n",
       "2  118    0.08  3.48      32.28       1    52    29.14     3.81   46    1\n",
       "3  170    7.50  6.41      38.03       1    51    31.99    24.26   58    2\n",
       "4  134   13.60  3.50      27.78       1    60    25.99    57.34   49    2"
      ]
     },
     "execution_count": 5,
     "metadata": {},
     "output_type": "execute_result"
    }
   ],
   "source": [
    "columns = ['sbp','Tabaco','ldl','Adiposity','Family','Type','Obesity','Alcohol','Age','chd'] #Medical stuff\n",
    "df.columns = columns\n",
    "df.head()"
   ]
  },
  {
   "cell_type": "code",
   "execution_count": 10,
   "metadata": {},
   "outputs": [
    {
     "data": {
      "text/plain": [
       "sbp            int64\n",
       "Tabaco       float64\n",
       "ldl          float64\n",
       "Adiposity    float64\n",
       "Family         int64\n",
       "Type           int64\n",
       "Obesity      float64\n",
       "Alcohol      float64\n",
       "Age            int64\n",
       "chd            int64\n",
       "dtype: object"
      ]
     },
     "execution_count": 10,
     "metadata": {},
     "output_type": "execute_result"
    }
   ],
   "source": [
    "df.dtypes"
   ]
  },
  {
   "cell_type": "code",
   "execution_count": 11,
   "metadata": {},
   "outputs": [
    {
     "data": {
      "text/plain": [
       "sbp          0\n",
       "Tabaco       0\n",
       "ldl          0\n",
       "Adiposity    0\n",
       "Family       0\n",
       "Type         0\n",
       "Obesity      0\n",
       "Alcohol      0\n",
       "Age          0\n",
       "chd          0\n",
       "dtype: int64"
      ]
     },
     "execution_count": 11,
     "metadata": {},
     "output_type": "execute_result"
    }
   ],
   "source": [
    "df.isnull().sum()"
   ]
  },
  {
   "cell_type": "code",
   "execution_count": 15,
   "metadata": {},
   "outputs": [
    {
     "data": {
      "text/html": [
       "<div>\n",
       "<style scoped>\n",
       "    .dataframe tbody tr th:only-of-type {\n",
       "        vertical-align: middle;\n",
       "    }\n",
       "\n",
       "    .dataframe tbody tr th {\n",
       "        vertical-align: top;\n",
       "    }\n",
       "\n",
       "    .dataframe thead th {\n",
       "        text-align: right;\n",
       "    }\n",
       "</style>\n",
       "<table border=\"1\" class=\"dataframe\">\n",
       "  <thead>\n",
       "    <tr style=\"text-align: right;\">\n",
       "      <th></th>\n",
       "      <th>sbp</th>\n",
       "      <th>Tabaco</th>\n",
       "      <th>ldl</th>\n",
       "      <th>Adiposity</th>\n",
       "      <th>Family</th>\n",
       "      <th>Type</th>\n",
       "      <th>Obesity</th>\n",
       "      <th>Alcohol</th>\n",
       "      <th>Age</th>\n",
       "      <th>chd</th>\n",
       "    </tr>\n",
       "  </thead>\n",
       "  <tbody>\n",
       "    <tr>\n",
       "      <th>0</th>\n",
       "      <td>160</td>\n",
       "      <td>12.00</td>\n",
       "      <td>5.73</td>\n",
       "      <td>23.11</td>\n",
       "      <td>0</td>\n",
       "      <td>49</td>\n",
       "      <td>25.30</td>\n",
       "      <td>97.20</td>\n",
       "      <td>52</td>\n",
       "      <td>1</td>\n",
       "    </tr>\n",
       "    <tr>\n",
       "      <th>1</th>\n",
       "      <td>144</td>\n",
       "      <td>0.01</td>\n",
       "      <td>4.41</td>\n",
       "      <td>28.61</td>\n",
       "      <td>1</td>\n",
       "      <td>55</td>\n",
       "      <td>28.87</td>\n",
       "      <td>2.06</td>\n",
       "      <td>63</td>\n",
       "      <td>1</td>\n",
       "    </tr>\n",
       "    <tr>\n",
       "      <th>2</th>\n",
       "      <td>118</td>\n",
       "      <td>0.08</td>\n",
       "      <td>3.48</td>\n",
       "      <td>32.28</td>\n",
       "      <td>0</td>\n",
       "      <td>52</td>\n",
       "      <td>29.14</td>\n",
       "      <td>3.81</td>\n",
       "      <td>46</td>\n",
       "      <td>0</td>\n",
       "    </tr>\n",
       "    <tr>\n",
       "      <th>3</th>\n",
       "      <td>170</td>\n",
       "      <td>7.50</td>\n",
       "      <td>6.41</td>\n",
       "      <td>38.03</td>\n",
       "      <td>0</td>\n",
       "      <td>51</td>\n",
       "      <td>31.99</td>\n",
       "      <td>24.26</td>\n",
       "      <td>58</td>\n",
       "      <td>1</td>\n",
       "    </tr>\n",
       "    <tr>\n",
       "      <th>4</th>\n",
       "      <td>134</td>\n",
       "      <td>13.60</td>\n",
       "      <td>3.50</td>\n",
       "      <td>27.78</td>\n",
       "      <td>0</td>\n",
       "      <td>60</td>\n",
       "      <td>25.99</td>\n",
       "      <td>57.34</td>\n",
       "      <td>49</td>\n",
       "      <td>1</td>\n",
       "    </tr>\n",
       "  </tbody>\n",
       "</table>\n",
       "</div>"
      ],
      "text/plain": [
       "   sbp  Tabaco   ldl  Adiposity  Family  Type  Obesity  Alcohol  Age  chd\n",
       "0  160   12.00  5.73      23.11       0    49    25.30    97.20   52    1\n",
       "1  144    0.01  4.41      28.61       1    55    28.87     2.06   63    1\n",
       "2  118    0.08  3.48      32.28       0    52    29.14     3.81   46    0\n",
       "3  170    7.50  6.41      38.03       0    51    31.99    24.26   58    1\n",
       "4  134   13.60  3.50      27.78       0    60    25.99    57.34   49    1"
      ]
     },
     "execution_count": 15,
     "metadata": {},
     "output_type": "execute_result"
    }
   ],
   "source": [
    "encoder = LabelEncoder()\n",
    "df['Family'] = encoder.fit_transform(df['Family'])\n",
    "df['chd'] = encoder.fit_transform(df['chd'])\n",
    "df.head()"
   ]
  },
  {
   "cell_type": "code",
   "execution_count": 19,
   "metadata": {},
   "outputs": [
    {
     "data": {
      "text/html": [
       "<div>\n",
       "<style scoped>\n",
       "    .dataframe tbody tr th:only-of-type {\n",
       "        vertical-align: middle;\n",
       "    }\n",
       "\n",
       "    .dataframe tbody tr th {\n",
       "        vertical-align: top;\n",
       "    }\n",
       "\n",
       "    .dataframe thead th {\n",
       "        text-align: right;\n",
       "    }\n",
       "</style>\n",
       "<table border=\"1\" class=\"dataframe\">\n",
       "  <thead>\n",
       "    <tr style=\"text-align: right;\">\n",
       "      <th></th>\n",
       "      <th>sbp</th>\n",
       "      <th>Tabaco</th>\n",
       "      <th>ldl</th>\n",
       "      <th>Adiposity</th>\n",
       "      <th>Family</th>\n",
       "      <th>Type</th>\n",
       "      <th>Obesity</th>\n",
       "      <th>Alcohol</th>\n",
       "      <th>Age</th>\n",
       "      <th>chd</th>\n",
       "    </tr>\n",
       "  </thead>\n",
       "  <tbody>\n",
       "    <tr>\n",
       "      <th>0</th>\n",
       "      <td>50.427350</td>\n",
       "      <td>12.00</td>\n",
       "      <td>5.73</td>\n",
       "      <td>23.11</td>\n",
       "      <td>0</td>\n",
       "      <td>49</td>\n",
       "      <td>25.30</td>\n",
       "      <td>97.20</td>\n",
       "      <td>52</td>\n",
       "      <td>1</td>\n",
       "    </tr>\n",
       "    <tr>\n",
       "      <th>1</th>\n",
       "      <td>36.752137</td>\n",
       "      <td>0.01</td>\n",
       "      <td>4.41</td>\n",
       "      <td>28.61</td>\n",
       "      <td>1</td>\n",
       "      <td>55</td>\n",
       "      <td>28.87</td>\n",
       "      <td>2.06</td>\n",
       "      <td>63</td>\n",
       "      <td>1</td>\n",
       "    </tr>\n",
       "    <tr>\n",
       "      <th>2</th>\n",
       "      <td>14.529915</td>\n",
       "      <td>0.08</td>\n",
       "      <td>3.48</td>\n",
       "      <td>32.28</td>\n",
       "      <td>0</td>\n",
       "      <td>52</td>\n",
       "      <td>29.14</td>\n",
       "      <td>3.81</td>\n",
       "      <td>46</td>\n",
       "      <td>0</td>\n",
       "    </tr>\n",
       "    <tr>\n",
       "      <th>3</th>\n",
       "      <td>58.974359</td>\n",
       "      <td>7.50</td>\n",
       "      <td>6.41</td>\n",
       "      <td>38.03</td>\n",
       "      <td>0</td>\n",
       "      <td>51</td>\n",
       "      <td>31.99</td>\n",
       "      <td>24.26</td>\n",
       "      <td>58</td>\n",
       "      <td>1</td>\n",
       "    </tr>\n",
       "    <tr>\n",
       "      <th>4</th>\n",
       "      <td>28.205128</td>\n",
       "      <td>13.60</td>\n",
       "      <td>3.50</td>\n",
       "      <td>27.78</td>\n",
       "      <td>0</td>\n",
       "      <td>60</td>\n",
       "      <td>25.99</td>\n",
       "      <td>57.34</td>\n",
       "      <td>49</td>\n",
       "      <td>1</td>\n",
       "    </tr>\n",
       "  </tbody>\n",
       "</table>\n",
       "</div>"
      ],
      "text/plain": [
       "         sbp  Tabaco   ldl  Adiposity  Family  Type  Obesity  Alcohol  Age  \\\n",
       "0  50.427350   12.00  5.73      23.11       0    49    25.30    97.20   52   \n",
       "1  36.752137    0.01  4.41      28.61       1    55    28.87     2.06   63   \n",
       "2  14.529915    0.08  3.48      32.28       0    52    29.14     3.81   46   \n",
       "3  58.974359    7.50  6.41      38.03       0    51    31.99    24.26   58   \n",
       "4  28.205128   13.60  3.50      27.78       0    60    25.99    57.34   49   \n",
       "\n",
       "   chd  \n",
       "0    1  \n",
       "1    1  \n",
       "2    0  \n",
       "3    1  \n",
       "4    1  "
      ]
     },
     "execution_count": 19,
     "metadata": {},
     "output_type": "execute_result"
    }
   ],
   "source": [
    "scale = MinMaxScaler(feature_range = (0,100))\n",
    "df['sbp'] = scale.fit_transform(df['sbp'].values.reshape(-1,1))\n",
    "df.head()"
   ]
  },
  {
   "cell_type": "code",
   "execution_count": 25,
   "metadata": {},
   "outputs": [
    {
     "data": {
      "text/plain": [
       "<matplotlib.axes._subplots.AxesSubplot at 0x7f58b5243f10>"
      ]
     },
     "execution_count": 25,
     "metadata": {},
     "output_type": "execute_result"
    },
    {
     "data": {
      "image/png": "[encoded data removed]",
      "text/plain": [
       "<Figure size 720x360 with 1 Axes>"
      ]
     },
     "metadata": {
      "needs_background": "light"
     },
     "output_type": "display_data"
    }
   ],
   "source": [
    "df.plot(x='Age',y='Obesity',kind='scatter',figsize=(10,5))"
   ]
  },
  {
   "cell_type": "code",
   "execution_count": 26,
   "metadata": {},
   "outputs": [
    {
     "data": {
      "text/plain": [
       "<matplotlib.axes._subplots.AxesSubplot at 0x7f58b51b8650>"
      ]
     },
     "execution_count": 26,
     "metadata": {},
     "output_type": "execute_result"
    },
    {
     "data": {
      "image/png": "[encoded data removed]",
      "text/plain": [
       "<Figure size 720x360 with 1 Axes>"
      ]
     },
     "metadata": {
      "needs_background": "light"
     },
     "output_type": "display_data"
    }
   ],
   "source": [
    "df.plot(x='Age',y='Tabaco',kind='scatter',figsize=(10,5))"
   ]
  },
  {
   "cell_type": "code",
   "execution_count": 27,
   "metadata": {},
   "outputs": [
    {
     "data": {
      "text/plain": [
       "<matplotlib.axes._subplots.AxesSubplot at 0x7f58b51ef890>"
      ]
     },
     "execution_count": 27,
     "metadata": {},
     "output_type": "execute_result"
    },
    {
     "data": {
      "image/png": "[encoded data removed]",
      "text/plain": [
       "<Figure size 720x360 with 1 Axes>"
      ]
     },
     "metadata": {
      "needs_background": "light"
     },
     "output_type": "display_data"
    }
   ],
   "source": [
    "df.plot(x='Age',y='Alcohol',kind='scatter',figsize=(10,5))"
   ]
  },
  {
   "cell_type": "code",
   "execution_count": 36,
   "metadata": {},
   "outputs": [],
   "source": [
    "y = df['chd']\n",
    "x = df.drop('chd',axis=1)"
   ]
  },
  {
   "cell_type": "code",
   "execution_count": 38,
   "metadata": {},
   "outputs": [],
   "source": [
    "x_train, x_test, y_train, y_test = train_test_split(x,y,test_size=0.20,random_state=1)"
   ]
  },
  {
   "cell_type": "markdown",
   "metadata": {},
   "source": [
    "### We tried various classification methods\n",
    "# SVM"
   ]
  },
  {
   "cell_type": "code",
   "execution_count": 70,
   "metadata": {},
   "outputs": [
    {
     "name": "stdout",
     "output_type": "stream",
     "text": [
      "Confusion matrix\n",
      "[[60  6]\n",
      " [18  9]]\n",
      "Accuracy 0.7419354838709677\n",
      "Presision 0.6\n"
     ]
    }
   ],
   "source": [
    "alg = svm.SVC(kernel='rbf')\n",
    "alg.fit(x_train,y_train)\n",
    "y_test_pred= alg.predict(x_test)\n",
    "print('Confusion matrix')\n",
    "print(confusion_matrix(y_test,y_test_pred))\n",
    "print('Accuracy', accuracy_score(y_test,y_test_pred))\n",
    "print('Presision', precision_score(y_test,y_test_pred))"
   ]
  },
  {
   "cell_type": "markdown",
   "metadata": {},
   "source": [
    "### Decision Trees"
   ]
  },
  {
   "cell_type": "code",
   "execution_count": 89,
   "metadata": {},
   "outputs": [
    {
     "name": "stdout",
     "output_type": "stream",
     "text": [
      "Confusion matrix\n",
      "[[53 13]\n",
      " [15 12]]\n",
      "Accuracy 0.6989247311827957\n",
      "Presision 0.48\n"
     ]
    }
   ],
   "source": [
    "clf_tree = DecisionTreeClassifier()\n",
    "clf_tree.fit(x_train,y_train)\n",
    "y_test_pred= clf_tree.predict(x_test)\n",
    "print('Confusion matrix')\n",
    "print(confusion_matrix(y_test,y_test_pred))\n",
    "print('Accuracy', accuracy_score(y_test,y_test_pred))\n",
    "print('Presision', precision_score(y_test,y_test_pred))"
   ]
  },
  {
   "cell_type": "markdown",
   "metadata": {},
   "source": [
    "### Logistic Regression"
   ]
  },
  {
   "cell_type": "code",
   "execution_count": 88,
   "metadata": {},
   "outputs": [
    {
     "name": "stdout",
     "output_type": "stream",
     "text": [
      "Confusion matrix\n",
      "[[57  9]\n",
      " [17 10]]\n",
      "Accuracy 0.7204301075268817\n",
      "Presision 0.5263157894736842\n"
     ]
    },
    {
     "name": "stderr",
     "output_type": "stream",
     "text": [
      "/home/antonio/anaconda3/lib/python3.7/site-packages/sklearn/linear_model/_logistic.py:940: ConvergenceWarning: lbfgs failed to converge (status=1):\n",
      "STOP: TOTAL NO. of ITERATIONS REACHED LIMIT.\n",
      "\n",
      "Increase the number of iterations (max_iter) or scale the data as shown in:\n",
      "    https://scikit-learn.org/stable/modules/preprocessing.html\n",
      "Please also refer to the documentation for alternative solver options:\n",
      "    https://scikit-learn.org/stable/modules/linear_model.html#logistic-regression\n",
      "  extra_warning_msg=_LOGISTIC_SOLVER_CONVERGENCE_MSG)\n"
     ]
    }
   ],
   "source": [
    "clf_log = LogisticRegression() \n",
    "clf_log.fit(x_train,y_train)\n",
    "y_test_pred= clf_log.predict(x_test)\n",
    "print('Confusion matrix')\n",
    "print(confusion_matrix(y_test,y_test_pred))\n",
    "print('Accuracy', accuracy_score(y_test,y_test_pred))\n",
    "print('Presision', precision_score(y_test,y_test_pred))"
   ]
  },
  {
   "cell_type": "markdown",
   "metadata": {},
   "source": [
    "### Gaussian Naive Bayes"
   ]
  },
  {
   "cell_type": "code",
   "execution_count": 86,
   "metadata": {},
   "outputs": [
    {
     "name": "stdout",
     "output_type": "stream",
     "text": [
      "Confusion matrix\n",
      "[[54 12]\n",
      " [11 16]]\n",
      "Accuracy 0.7526881720430108\n",
      "Presision 0.5714285714285714\n"
     ]
    }
   ],
   "source": [
    "clf_gnb = GaussianNB()\n",
    "clf_gnb.fit(x_train,y_train)\n",
    "y_test_pred= clf_gnb.predict(x_test)\n",
    "print('Confusion matrix')\n",
    "print(confusion_matrix(y_test,y_test_pred))\n",
    "print('Accuracy', accuracy_score(y_test,y_test_pred))\n",
    "print('Presision', precision_score(y_test,y_test_pred))"
   ]
  },
  {
   "cell_type": "markdown",
   "metadata": {},
   "source": [
    "### k-nearest neighbors"
   ]
  },
  {
   "cell_type": "code",
   "execution_count": 93,
   "metadata": {},
   "outputs": [
    {
     "name": "stdout",
     "output_type": "stream",
     "text": [
      "Confusion matrix\n",
      "[[59  7]\n",
      " [15 12]]\n",
      "Accuracy 0.7634408602150538\n",
      "Presision 0.631578947368421\n"
     ]
    }
   ],
   "source": [
    "clf_neigh = KNeighborsClassifier(n_neighbors=21)\n",
    "clf_neigh.fit(x_train,y_train)\n",
    "y_test_pred= clf_neigh.predict(x_test)\n",
    "print('Confusion matrix')\n",
    "print(confusion_matrix(y_test,y_test_pred))\n",
    "print('Accuracy', accuracy_score(y_test,y_test_pred))\n",
    "print('Presision', precision_score(y_test,y_test_pred))"
   ]
  },
  {
   "cell_type": "code",
   "execution_count": 94,
   "metadata": {
    "scrolled": true
   },
   "outputs": [
    {
     "name": "stdout",
     "output_type": "stream",
     "text": [
      "1 Accuracy 0.6344086021505376\n",
      "2 Accuracy 0.6881720430107527\n",
      "3 Accuracy 0.6774193548387096\n",
      "4 Accuracy 0.6881720430107527\n",
      "5 Accuracy 0.6989247311827957\n",
      "6 Accuracy 0.7096774193548387\n",
      "7 Accuracy 0.6881720430107527\n",
      "8 Accuracy 0.7204301075268817\n",
      "9 Accuracy 0.7096774193548387\n",
      "10 Accuracy 0.7204301075268817\n",
      "11 Accuracy 0.6881720430107527\n",
      "12 Accuracy 0.7096774193548387\n",
      "13 Accuracy 0.7096774193548387\n",
      "14 Accuracy 0.7419354838709677\n",
      "15 Accuracy 0.7311827956989247\n",
      "16 Accuracy 0.7526881720430108\n",
      "17 Accuracy 0.7526881720430108\n",
      "18 Accuracy 0.7419354838709677\n",
      "19 Accuracy 0.7526881720430108\n",
      "20 Accuracy 0.7526881720430108\n",
      "21 Accuracy 0.7634408602150538\n",
      "22 Accuracy 0.7419354838709677\n",
      "23 Accuracy 0.7634408602150538\n",
      "24 Accuracy 0.7526881720430108\n",
      "25 Accuracy 0.7419354838709677\n",
      "26 Accuracy 0.7634408602150538\n",
      "27 Accuracy 0.7526881720430108\n",
      "28 Accuracy 0.7419354838709677\n",
      "29 Accuracy 0.7096774193548387\n",
      "30 Accuracy 0.7311827956989247\n",
      "31 Accuracy 0.7204301075268817\n",
      "32 Accuracy 0.7311827956989247\n",
      "33 Accuracy 0.7419354838709677\n",
      "34 Accuracy 0.7311827956989247\n",
      "35 Accuracy 0.7419354838709677\n",
      "36 Accuracy 0.7096774193548387\n",
      "37 Accuracy 0.7204301075268817\n",
      "38 Accuracy 0.7311827956989247\n",
      "39 Accuracy 0.7096774193548387\n",
      "40 Accuracy 0.7204301075268817\n",
      "41 Accuracy 0.7204301075268817\n",
      "42 Accuracy 0.7096774193548387\n",
      "43 Accuracy 0.7204301075268817\n",
      "44 Accuracy 0.6989247311827957\n",
      "45 Accuracy 0.7096774193548387\n",
      "46 Accuracy 0.7096774193548387\n",
      "47 Accuracy 0.7096774193548387\n",
      "48 Accuracy 0.7096774193548387\n",
      "49 Accuracy 0.7204301075268817\n",
      "50 Accuracy 0.6989247311827957\n",
      "51 Accuracy 0.7096774193548387\n",
      "52 Accuracy 0.7096774193548387\n",
      "53 Accuracy 0.7096774193548387\n",
      "54 Accuracy 0.6989247311827957\n",
      "55 Accuracy 0.7096774193548387\n",
      "56 Accuracy 0.7204301075268817\n",
      "57 Accuracy 0.7096774193548387\n",
      "58 Accuracy 0.7096774193548387\n",
      "59 Accuracy 0.7096774193548387\n",
      "60 Accuracy 0.6989247311827957\n",
      "61 Accuracy 0.6989247311827957\n",
      "62 Accuracy 0.6989247311827957\n",
      "63 Accuracy 0.6989247311827957\n",
      "64 Accuracy 0.7204301075268817\n",
      "65 Accuracy 0.7096774193548387\n",
      "66 Accuracy 0.7204301075268817\n",
      "67 Accuracy 0.7204301075268817\n",
      "68 Accuracy 0.7311827956989247\n",
      "69 Accuracy 0.7204301075268817\n",
      "70 Accuracy 0.7204301075268817\n",
      "71 Accuracy 0.7204301075268817\n",
      "72 Accuracy 0.7311827956989247\n",
      "73 Accuracy 0.7311827956989247\n",
      "74 Accuracy 0.7311827956989247\n",
      "75 Accuracy 0.7311827956989247\n",
      "76 Accuracy 0.7311827956989247\n",
      "77 Accuracy 0.7311827956989247\n",
      "78 Accuracy 0.7311827956989247\n",
      "79 Accuracy 0.7311827956989247\n",
      "80 Accuracy 0.7311827956989247\n",
      "81 Accuracy 0.7311827956989247\n",
      "82 Accuracy 0.7311827956989247\n",
      "83 Accuracy 0.7419354838709677\n",
      "84 Accuracy 0.7419354838709677\n",
      "85 Accuracy 0.7419354838709677\n",
      "86 Accuracy 0.7419354838709677\n",
      "87 Accuracy 0.7419354838709677\n",
      "88 Accuracy 0.7311827956989247\n",
      "89 Accuracy 0.7419354838709677\n",
      "90 Accuracy 0.7419354838709677\n",
      "91 Accuracy 0.7419354838709677\n",
      "92 Accuracy 0.7419354838709677\n",
      "93 Accuracy 0.7419354838709677\n",
      "94 Accuracy 0.7419354838709677\n",
      "95 Accuracy 0.7419354838709677\n",
      "96 Accuracy 0.7419354838709677\n",
      "97 Accuracy 0.7419354838709677\n",
      "98 Accuracy 0.7419354838709677\n",
      "99 Accuracy 0.7419354838709677\n"
     ]
    }
   ],
   "source": [
    "for i in range(1,100):\n",
    "    clf_neigh = KNeighborsClassifier(n_neighbors=i)\n",
    "    clf_neigh.fit(x_train,y_train)\n",
    "    y_test_pred= clf_neigh.predict(x_test)\n",
    "    print(i,'Accuracy', accuracy_score(y_test,y_test_pred))"
   ]
  },
  {
   "cell_type": "code",
   "execution_count": null,
   "metadata": {},
   "outputs": [],
   "source": []
  }
 ],
 "metadata": {
  "kernelspec": {
   "display_name": "Python 3",
   "language": "python",
   "name": "python3"
  },
  "language_info": {
   "codemirror_mode": {
    "name": "ipython",
    "version": 3
   },
   "file_extension": ".py",
   "mimetype": "text/x-python",
   "name": "python",
   "nbconvert_exporter": "python",
   "pygments_lexer": "ipython3",
   "version": "3.7.6"
  }
 },
 "nbformat": 4,
 "nbformat_minor": 4
}
